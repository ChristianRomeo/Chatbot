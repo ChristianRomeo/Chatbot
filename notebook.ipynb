{
 "cells": [
  {
   "cell_type": "markdown",
   "metadata": {},
   "source": [
    "Data manipulation to consolidate the file"
   ]
  },
  {
   "cell_type": "code",
   "execution_count": null,
   "metadata": {},
   "outputs": [],
   "source": [
    "import modin.pandas as pd\n",
    "import numpy as np\n",
    "from bs4 import BeautifulSoup\n",
    "    \n",
    "dfe = pd.read_csv('./oldData/3cixty_cotedazur_events.csv', dtype=str)\n",
    "\n",
    "dfe = dfe.groupby('event', as_index=False).agg({\n",
    "    'label': lambda x: x.dropna().iloc[0] if x.dropna().size > 0 else '',\n",
    "    'description': lambda x: x.dropna().iloc[0] if x.dropna().size > 0 else '',\n",
    "    'category': lambda x: x.dropna().iloc[0] if x.dropna().size > 0 else '',\n",
    "    'subject': lambda x: x.dropna().iloc[0] if x.dropna().size > 0 else '',\n",
    "    'placeLabel': lambda x: x.dropna().iloc[0] if x.dropna().size > 0 else '',\n",
    "    'placeLocality': lambda x: x.dropna().iloc[0] if x.dropna().size > 0 else '',\n",
    "    'timeBegin': lambda x: x.dropna().iloc[0] if x.dropna().size > 0 else '',\n",
    "    'timeEnd': lambda x: x.dropna().iloc[0] if x.dropna().size > 0 else ''\n",
    "})\n",
    "\n",
    "#rename the column event to url\n",
    "dfe['url'] = dfe['event']\n",
    "dfe.pop('event')\n",
    "dfe['label'] = dfe['label'].apply(lambda x: 'Event name: ' + str(x) if pd.notna(x) else x)\n",
    "dfe['description'] = dfe['description'].apply(lambda x: ' Event description: ' + str(x) if pd.notna(x) else x)\n",
    "dfe['description'] = dfe['description'].apply(lambda x: BeautifulSoup(x, \"html.parser\").get_text() if pd.notna(x) else x)\n",
    "dfe['category'] = dfe['category'].apply(lambda x: 'Event category: ' + str(x) if pd.notna(x) else x)\n",
    "dfe['subject'] = dfe['subject'].apply(lambda x: 'Event subject: ' + str(x) if pd.notna(x) else x)\n",
    "dfe['placeLabel'] = dfe['placeLabel'].apply(lambda x: 'Event place: ' + str(x) if pd.notna(x) else x)\n",
    "dfe['placeLocality'] = dfe['placeLocality'].apply(lambda x: 'Event place location: ' + str(x) if pd.notna(x) else x)\n",
    "dfe['timeBegin'] = dfe['timeBegin'].apply(lambda x: 'Event time begin: ' + str(x) if pd.notna(x) else x)\n",
    "dfe['timeEnd'] = dfe['timeEnd'].apply(lambda x: 'Event time end: ' + str(x) if pd.notna(x) else x)\n",
    "\n",
    "print(dfe.head())\n",
    "\n",
    "# Save the result to a new CSV file\n",
    "dfe.to_csv('./data/events.csv', index=False)\n",
    "\n",
    "dfp = pd.read_csv('./oldData/3cixty_cotedazur_places.csv', dtype=str)\n",
    "\n",
    "dfp = dfp.groupby('place', as_index=False, sort=False).agg({\n",
    "    'label': lambda x: x.dropna().iloc[0] if x.dropna().size > 0 else '',\n",
    "    'description': lambda x: x.dropna().iloc[0] if x.dropna().size > 0 else '',\n",
    "    'businessTypeLabel': lambda x: x.dropna().iloc[0] if x.dropna().size > 0 else '',\n",
    "    'locality': lambda x: x.dropna().iloc[0] if x.dropna().size > 0 else ''\n",
    "})\n",
    "\n",
    "dfp['url'] = dfp['place']\n",
    "dfp.pop('place')\n",
    "dfp['label'] = dfp['label'].apply(lambda x: 'Place name: ' + str(x) if pd.notna(x) else x)\n",
    "dfp['description'] = dfp['description'].apply(lambda x: 'Place description: ' + str(x) if pd.notna(x) else x)\n",
    "dfp['businessTypeLabel'] = dfp['businessTypeLabel'].apply(lambda x: 'Place business type: ' + str(x) if pd.notna(x) else x)\n",
    "dfp['locality'] = dfp['locality'].apply(lambda x: 'Place location: ' + str(x) if pd.notna(x) else x)\n",
    "\n",
    "print(dfp.head())\n",
    "\n",
    "dfp.to_csv('./data/places.csv', index=False)\n"
   ]
  },
  {
   "cell_type": "code",
   "execution_count": 1,
   "metadata": {},
   "outputs": [],
   "source": [
    "import glob\n",
    "from llama_index import VectorStoreIndex, ServiceContext, Document, StorageContext, set_global_service_context\n",
    "from langchain.embeddings.huggingface import HuggingFaceEmbeddings\n",
    "from llama_index.embeddings import LangchainEmbedding\n",
    "import chromadb\n",
    "from llama_index.vector_stores import ChromaVectorStore\n",
    "from llama_index.storage.storage_context import StorageContext\n",
    "import modin.pandas as pd\n",
    "from llama_index.node_parser import SentenceSplitter\n",
    "from llama_index.indices.prompt_helper import PromptHelper\n",
    "from langchain_openai import ChatOpenAI\n",
    "import re\n",
    "from llama_index.chat_engine import CondensePlusContextChatEngine\n",
    "from llama_index.indices.vector_store.retrievers import VectorIndexRetriever"
   ]
  },
  {
   "cell_type": "code",
   "execution_count": 3,
   "metadata": {},
   "outputs": [
    {
     "name": "stderr",
     "output_type": "stream",
     "text": [
      "No sentence-transformers model found with name C:\\Users\\chris/.cache\\torch\\sentence_transformers\\dangvantuan_sentence-camembert-large. Creating a new one with MEAN pooling.\n"
     ]
    }
   ],
   "source": [
    "system_prompt = (\n",
    "    \"You are a knowledgeable Tourism Assistant designed to provide visitors with \"\n",
    "    \"information, recommendations, and tips for exploring and enjoying their destination. \"\n",
    "    \"The assistant is familiar with a wide range of topics including historical sites, \"\n",
    "    \"cultural events, local cuisine, accommodations, transportation options, and hidden gems. \"\n",
    "    \"It offers up-to-date and personalized information to help tourists make the most of their trip.\"\n",
    ")\n",
    "\n",
    "llm = ChatOpenAI(model=\"gpt-3.5-turbo-1106\", temperature=0.6)\n",
    "\n",
    "#GPT4All(model=\"./mistral-7b-openorca.Q4_0.gguf\", device='nvidia', n_threads=12, use_mlock=True, n_predict= 2000, temp=0.9)\n",
    "#ChatOpenAI(model=\"gpt-3.5-turbo-1106\", temperature=0.9)\n",
    "#GoogleGenerativeAI(model=\"gemini-pro\")\n",
    "\n",
    "service_context = ServiceContext.from_defaults( llm=llm, \n",
    "                                                prompt_helper = PromptHelper(),\n",
    "                                                embed_model= LangchainEmbedding(HuggingFaceEmbeddings(model_name='dangvantuan/sentence-camembert-large',model_kwargs = {'device': 'cuda:0'})),\n",
    "                                                node_parser=SentenceSplitter(),\n",
    "                                                system_prompt=system_prompt,\n",
    "                                                )\n",
    "\n",
    "set_global_service_context(service_context)\n",
    "\n",
    "# create collection\n",
    "chroma_collection = chromadb.PersistentClient(path=\"./chroma_db\").get_or_create_collection(\"tourism_db\")\n",
    "#embedding_functions.HuggingFaceEmbeddingFunction(model_name=\"dangvantuan/sentence-camembert-large\")\n",
    "\n",
    "# assign chroma as the vector_store to the context\n",
    "storage_context = StorageContext.from_defaults(vector_store=ChromaVectorStore(chroma_collection=chroma_collection))"
   ]
  },
  {
   "cell_type": "markdown",
   "metadata": {},
   "source": [
    "If we need to compute the index:"
   ]
  },
  {
   "cell_type": "code",
   "execution_count": 3,
   "metadata": {},
   "outputs": [
    {
     "name": "stderr",
     "output_type": "stream",
     "text": [
      "UserWarning: Ray execution environment not yet initialized. Initializing...\n",
      "To remove this warning, run the following python code before doing dataframe operations:\n",
      "\n",
      "    import ray\n",
      "    ray.init()\n",
      "\n",
      "2024-01-15 15:57:15,610\tINFO worker.py:1724 -- Started a local Ray instance.\n"
     ]
    }
   ],
   "source": [
    "documents = []\n",
    "\n",
    "# Get a list of all CSV files in the directory\n",
    "for file in glob.glob('./data/*.csv'):\n",
    "    # Read the CSV file into a DataFrame\n",
    "    df = pd.read_csv(file, dtype=str, parse_dates=True)\n",
    "\n",
    "    df = df._to_pandas()\n",
    "    \n",
    "    # Convert the DataFrame into a list of Document objects\n",
    "    docs = [Document(doc_id=str(i), text=row.to_string(), extra_info={col: row[col] for col in df.columns if col not in ['description']}) for i, row in df.iterrows()] #str(row.to_dict())\n",
    "\n",
    "    # Add the documents to the list\n",
    "    documents.extend(docs)"
   ]
  },
  {
   "cell_type": "code",
   "execution_count": null,
   "metadata": {},
   "outputs": [],
   "source": [
    "batch_size = 5461  # Maximum batch size\n",
    "for i in range(0, len(documents), batch_size):\n",
    "    batch = documents[i:i+batch_size]\n",
    "    # Now add the batch to the index\n",
    "    index = VectorStoreIndex.from_documents(batch, service_context=service_context, storage_context=storage_context, show_progress=True)\n",
    "    \n",
    "    #index = VectorStoreIndex.from_vector_store(ChromaVectorStore(chroma_collection=chroma_collection), storage_context=storage_context, show_progress=True).refresh_ref_docs(batch)\n",
    "    #storage_context.persist(persist_dir=f\"./chroma_db\")\n",
    "#storage_context.persist(persist_dir=f\"./chroma_db\")"
   ]
  },
  {
   "cell_type": "markdown",
   "metadata": {},
   "source": [
    "if the index is already there:"
   ]
  },
  {
   "cell_type": "code",
   "execution_count": 4,
   "metadata": {},
   "outputs": [],
   "source": [
    "index = VectorStoreIndex.from_vector_store(ChromaVectorStore(chroma_collection=chroma_collection), storage_context=storage_context, service_context=service_context)"
   ]
  },
  {
   "cell_type": "code",
   "execution_count": 7,
   "metadata": {},
   "outputs": [
    {
     "name": "stdout",
     "output_type": "stream",
     "text": [
      "The \"Séjour : le Brame du Cerf à la Réserve des Monts d'Azur\" is an exclusive VIP experience that offers a unique insight into the world of the European red deer, known as the Cerf d'Europe. This special excursion allows visitors to observe and photograph the magnificent red deer in their natural habitat. The experience includes a guided safari in a horse-drawn carriage to witness the red deer during their mating season, known as the \"brame.\" Additionally, there is an opportunity for a guided walking safari to approach the red deer and observe the fauna of the reserve. The package also includes accommodation in a bioclimatic room, an aperitif, and dinner. The experience is available from September 15th to October 30th on Wednesdays, Thursdays, Fridays, and Saturdays, with limited availability for 6 to 8 participants at certain times. It's a truly immersive and intimate encounter with the majestic red deer in the stunning setting of the Réserve des Monts d'Azur in Andon.\n",
      "The \"Séjour : le Brame du Cerf à la Réserve des Monts d'Azur\" is a two-day experience. It includes accommodation, a guided safari, and a walking safari to observe the red deer and the fauna of the reserve. This allows visitors to fully immerse themselves in the experience and enjoy the natural beauty of the reserve while observing the majestic red deer during their mating season.\n",
      "I don't have specific information about \"Demain l'Humain\" in the provided documents. It's possible that \"Demain l'Humain\" could be an event, organization, or initiative related to sustainable development, human-centered design, or community engagement. If you have more context or details about \"Demain l'Humain,\" I'd be happy to try to provide more information based on that.\n",
      "Cannes is a beautiful city located on the French Riviera. It is situated in the Alpes-Maritimes department in the region of Provence-Alpes-Côte d'Azur in southeastern France. Cannes is renowned for its stunning Mediterranean coastline, luxury hotels, vibrant cultural events, and the prestigious Cannes Film Festival. It is a popular destination for tourists seeking a mix of glamour, natural beauty, and rich cultural experiences.\n",
      "The conversation has been reset.\n",
      "The \"Séjour : le Brame du Cerf à la Réserve des Monts d'Azur\" is a special VIP experience that allows visitors to witness the ceremonial rutting of the European Red Deer, also known as the \"Brame du Cerf.\" This unique excursion offers the opportunity to observe and photograph the majestic Red Deer in their natural habitat at the Réserve des Monts d'Azur in Andon.\n",
      "\n",
      "The itinerary includes a guided safari in a carriage to witness the Brame, accompanied by a specialized guide for observations and photography of the Grand Cerfs (Great Stags) of the Reserve. Additionally, there is a safari on foot with a guide for further observations and photography of the fauna, and a chance to approach the Great Stags on foot.\n",
      "\n",
      "The experience also includes an aperitif, dinner, and an overnight stay in a bioclimatic room. The offer is valid from September 15th to October 30th, on Wednesdays, Thursdays, Fridays, and Saturdays. It's important to note that the number of places for this excursion is limited to 6 to 8 people maximum, and at certain times, the site is privatized for the exclusive enjoyment of the guests.\n",
      "\n",
      "For more information, you can visit the event page at http://data.linkedevents.org/event/00140617-9e3a-35d8-a797-92f337356f27.\n",
      "Goodbye!\n"
     ]
    }
   ],
   "source": [
    "#context_prompt= \"Base the reply to the user question mainly on the Description field of the context \"\n",
    "#condense_prompt = \" \"\n",
    "\n",
    "chatEngine = CondensePlusContextChatEngine.from_defaults(\n",
    "    retriever=VectorIndexRetriever(index, similarity_top_k=5), #index.as_retriever(service_context=service_context, search_kwargs={\"k\": 1}),\n",
    "    query_engine=index.as_query_engine(service_context=service_context, retriever=VectorIndexRetriever(index, similarity_top_k=5)),\n",
    "    service_context=service_context,\n",
    "    system_prompt=system_prompt,\n",
    "    #condense_prompt=condense_prompt,\n",
    "    #context_prompt=context_prompt,\n",
    "    #verbose=True,\n",
    ")\n",
    "\n",
    "while True:\n",
    "    question = input(\"Please enter your question: \")\n",
    "    if question.lower() == \"exit\":\n",
    "        break\n",
    "    elif question.lower() == \"reset\":\n",
    "        chatEngine.reset()\n",
    "        print(\"The conversation has been reset.\")\n",
    "        continue\n",
    "    else:\n",
    "        response = chatEngine.chat(question)\n",
    "        \n",
    "        #index.as_chat_engine(chat_mode=\"condense_plus_context\", similarity_top_k=1, service_context=service_context,memory=ConversationBufferMemory()).chat(question)\n",
    "        #print(response)\n",
    "        \n",
    "        print(re.sub(r\"(AI: |AI Assistant: |assistant: )\", \"\", re.sub(r\"^user: .*$\", \"\", str(response), flags=re.MULTILINE)))\n",
    "        \n",
    "print(\"Goodbye!\")"
   ]
  }
 ],
 "metadata": {
  "kernelspec": {
   "display_name": "Python 3",
   "language": "python",
   "name": "python3"
  },
  "language_info": {
   "codemirror_mode": {
    "name": "ipython",
    "version": 3
   },
   "file_extension": ".py",
   "mimetype": "text/x-python",
   "name": "python",
   "nbconvert_exporter": "python",
   "pygments_lexer": "ipython3",
   "version": "3.11.7"
  }
 },
 "nbformat": 4,
 "nbformat_minor": 2
}
